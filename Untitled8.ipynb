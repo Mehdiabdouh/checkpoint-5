{
 "cells": [
  {
   "cell_type": "code",
   "execution_count": 10,
   "id": "33f1862a",
   "metadata": {},
   "outputs": [
    {
     "name": "stdout",
     "output_type": "stream",
     "text": [
      "(1,2,3)\n"
     ]
    }
   ],
   "source": [
    "class Point3D:\n",
    "    def __init__(self, x, y, z):\n",
    "        self.x = x\n",
    "        self.y = y\n",
    "        self.z = z\n",
    "    def __repr__(self):\n",
    "        return f'({self.x},{self.y},{self.z})'\n",
    "        \n",
    "my_point = Point3D(1,2,3)\n",
    "print(my_point)\n"
   ]
  },
  {
   "cell_type": "code",
   "execution_count": 7,
   "id": "085eb81c",
   "metadata": {},
   "outputs": [
    {
     "name": "stdout",
     "output_type": "stream",
     "text": [
      "12\n"
     ]
    }
   ],
   "source": [
    "class Rectangle():\n",
    "    def __init__(self, l, w):\n",
    "        self.length = l\n",
    "        self.width  = w\n",
    "\n",
    "    def rectangle_area(self):\n",
    "        return self.length*self.width\n",
    "\n",
    "newRectangle = Rectangle(4, 3)\n",
    "print(newRectangle.rectangle_area())\n"
   ]
  },
  {
   "cell_type": "code",
   "execution_count": 31,
   "id": "669f8a09",
   "metadata": {},
   "outputs": [
    {
     "data": {
      "text/plain": [
       "False"
      ]
     },
     "execution_count": 31,
     "metadata": {},
     "output_type": "execute_result"
    }
   ],
   "source": [
    "import math\n",
    "class Circle:\n",
    "    def __init__(self,o_x,o_y,r):\n",
    "        self.o_x=o_x\n",
    "        self.o_y=o_y\n",
    "        self.r=r\n",
    "    def area(self):\n",
    "        return(self.r**2)*math.pi\n",
    "    def perameter(self):\n",
    "        return(self.r*2)*math.pi\n",
    "    def inside(self,x,y):\n",
    "        dist=(self.o_x-x)**2+(self.o_y-y)**2\n",
    "        dist=math.sqrt(dist)\n",
    "        return dist<=self.r\n",
    "ci=Circle(0,0,1)\n",
    "ci.inside(3,4)"
   ]
  },
  {
   "cell_type": "code",
   "execution_count": 17,
   "id": "73ad86d4",
   "metadata": {},
   "outputs": [],
   "source": [
    "class bank:\n",
    "    def __init__(self,balance):\n",
    "        self.balance= balance\n",
    "    def deposit(self,m):\n",
    "        self.balance=m+self.balance\n",
    "    def withdraw(self,d):\n",
    "        self.balance=self.balance-d\n",
    "    def __repr__ (self):\n",
    "        return(f'Votre solde est de: {self.balance}')"
   ]
  },
  {
   "cell_type": "code",
   "execution_count": 12,
   "id": "331fd078",
   "metadata": {},
   "outputs": [
    {
     "name": "stdout",
     "output_type": "stream",
     "text": [
      "Votre solde est de: 6000\n"
     ]
    }
   ],
   "source": [
    "bank1=bank(5000)\n",
    "bank1.deposit(1000)\n",
    "print (bank1)"
   ]
  },
  {
   "cell_type": "code",
   "execution_count": 13,
   "id": "34cf3182",
   "metadata": {},
   "outputs": [
    {
     "name": "stdout",
     "output_type": "stream",
     "text": [
      "Votre solde est de: 4000\n"
     ]
    }
   ],
   "source": [
    "bank1.withdraw(2000)\n",
    "print(bank1)"
   ]
  },
  {
   "cell_type": "code",
   "execution_count": null,
   "id": "4ca9dcb3",
   "metadata": {},
   "outputs": [],
   "source": [
    "*"
   ]
  }
 ],
 "metadata": {
  "kernelspec": {
   "display_name": "Python 3",
   "language": "python",
   "name": "python3"
  },
  "language_info": {
   "codemirror_mode": {
    "name": "ipython",
    "version": 3
   },
   "file_extension": ".py",
   "mimetype": "text/x-python",
   "name": "python",
   "nbconvert_exporter": "python",
   "pygments_lexer": "ipython3",
   "version": "3.8.8"
  }
 },
 "nbformat": 4,
 "nbformat_minor": 5
}
